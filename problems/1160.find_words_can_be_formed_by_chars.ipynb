{
 "cells": [
  {
   "cell_type": "markdown",
   "metadata": {},
   "source": [
    "# 1160. Find Words That Can Be Formed by Characters\n",
    "\n",
    "You are given an array of strings `words` and a string `chars`.\n",
    "\n",
    "A string is good if it can be formed by characters from chars (each character can only be used once).\n",
    "\n",
    "Return the sum of lengths of all good strings in words.\n",
    "\n",
    "## Example 1:\n",
    "> __Input:__ words = [\"cat\",\"bt\",\"hat\",\"tree\"], chars = \"atach\" <br>\n",
    "> __Output:__ 6<br>\n",
    "> __Explanation:__ The strings that can be formed are \"cat\" and \"hat\" so the answer is 3 + 3 = 6.<br>\n",
    "\n",
    "\n",
    "## Example 2:\n",
    "> __Input:__ words = [\"hello\",\"world\",\"leetcode\"], chars = \"welldonehoneyr\"<br>\n",
    "> __Output:__ 10<br>\n",
    "> __Explanation:__ The strings that can be formed are \"hello\" and \"world\" so the answer is 5 + 5 = 10.<br>\n",
    "\n",
    "### Constraints:\n",
    "\n",
    "- $ 1 <= words.length <= 1000 $\n",
    "- $ 1 <= words[i].length, chars .length <= 100 $\n",
    "- $ words[i] $ and chars consist of lowercase English letters. "
   ]
  },
  {
   "cell_type": "code",
   "execution_count": 13,
   "metadata": {},
   "outputs": [
    {
     "name": "stdout",
     "output_type": "stream",
     "text": [
      "6\n",
      "6\n"
     ]
    }
   ],
   "source": [
    "from collections import defaultdict\n",
    "\n",
    "class Solution:\n",
    "    def chars_count(self, value: str) -> map:\n",
    "        chars_map = defaultdict(int)\n",
    "        for c in value:\n",
    "            # Directly increment the value though the element doesn't exists in map\n",
    "            chars_map[c] += 1\n",
    "\n",
    "            # It is better to check for it and add\n",
    "            # if c in chars_map:\n",
    "            #     chars_map[c] = chars_map[c] + 1\n",
    "            # else:\n",
    "            #     chars_map[c] = 1\n",
    "        return chars_map\n",
    "    \n",
    "    def countCharacters_using_hashmap(self, words: list[str], chars: str) -> int:\n",
    "        counts = self.chars_count(chars)\n",
    "        sum_of_str = 0\n",
    "        for word in words:\n",
    "            word_count = self.chars_count(word)\n",
    "            good_word = True\n",
    "            for wkey, wcount in word_count.items():\n",
    "                if counts[wkey] < wcount:\n",
    "                    good_word = False\n",
    "                    break\n",
    "                # simply check for the map value instead of and case etc...\n",
    "                # if wkey in counts and wcount <= counts[wkey]:\n",
    "                #     continue\n",
    "                # else:\n",
    "                #     good_word = False\n",
    "                #     break\n",
    "            if good_word == True:\n",
    "                sum_of_str += len(word)\n",
    "        return sum_of_str\n",
    "\n",
    "    def countCharacters_using_array(self, words: list[str], chars:str) -> int:\n",
    "        counts = [0] * 26\n",
    "        for c in chars:\n",
    "            counts[ord(c) - ord(\"a\")] += 1\n",
    "        ans = 0\n",
    "        for word in words:\n",
    "            word_count = [0] * 26\n",
    "            for w in word:\n",
    "                word_count[ord(w) - ord(\"a\")] += 1\n",
    "\n",
    "            good = True\n",
    "            for i in range(26):\n",
    "                if counts[i] < word_count[i]:\n",
    "                    good = False\n",
    "                    break\n",
    "            if good:\n",
    "                ans += len(word)\n",
    "        return ans\n",
    "\n",
    "\n",
    "obj = Solution()\n",
    "print(obj.countCharacters_using_hashmap([\"cat\",\"bt\",\"hat\",\"tree\"], \"atach\"))\n",
    "print(obj.countCharacters_using_array([\"cat\",\"bt\",\"hat\",\"tree\"], \"atach\"))\n",
    "\n",
    "        "
   ]
  }
 ],
 "metadata": {
  "kernelspec": {
   "display_name": ".venv",
   "language": "python",
   "name": "python3"
  },
  "language_info": {
   "codemirror_mode": {
    "name": "ipython",
    "version": 3
   },
   "file_extension": ".py",
   "mimetype": "text/x-python",
   "name": "python",
   "nbconvert_exporter": "python",
   "pygments_lexer": "ipython3",
   "version": "3.11.6"
  }
 },
 "nbformat": 4,
 "nbformat_minor": 2
}
